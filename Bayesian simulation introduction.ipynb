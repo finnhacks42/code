{
 "metadata": {
  "name": ""
 },
 "nbformat": 3,
 "nbformat_minor": 0,
 "worksheets": [
  {
   "cells": [
    {
     "cell_type": "markdown",
     "metadata": {},
     "source": [
      "Lets assume; \n",
      "x ~ N(0,1)\n",
      "y ~ N(0,1)\n",
      "z = x/sqrt(y)"
     ]
    },
    {
     "cell_type": "code",
     "collapsed": false,
     "input": [
      "n = 5\n",
      "x = normal(0,1,size=n)\n",
      "y = normal(0,1,size=n)\n",
      "z = x/sqrt(y)\n",
      "#z = x/sqrt(y)\n",
      "#hist(z)\n",
      "#show()"
     ],
     "language": "python",
     "metadata": {},
     "outputs": [],
     "prompt_number": 7
    },
    {
     "cell_type": "code",
     "collapsed": false,
     "input": [
      "print x\n",
      "print y\n",
      "print z"
     ],
     "language": "python",
     "metadata": {},
     "outputs": [
      {
       "output_type": "stream",
       "stream": "stdout",
       "text": [
        "[ 1.37783331  0.24427807  0.07951476 -1.65174162 -0.16240941]\n",
        "[-1.58368338  0.58430342  0.50119201 -0.11857399  0.89276513]\n",
        "[        nan  0.31956945  0.11231705         nan -0.17188683]\n"
       ]
      }
     ],
     "prompt_number": 8
    },
    {
     "cell_type": "code",
     "collapsed": false,
     "input": [],
     "language": "python",
     "metadata": {},
     "outputs": []
    }
   ],
   "metadata": {}
  }
 ]
}