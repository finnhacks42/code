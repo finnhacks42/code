{
 "metadata": {
  "name": ""
 },
 "nbformat": 3,
 "nbformat_minor": 0,
 "worksheets": [
  {
   "cells": [
    {
     "cell_type": "raw",
     "metadata": {},
     "source": [
      "Notebook to play with ideas on combining causal inference and reinforcment learning\n",
      "\n",
      "Basic starting point. Assume binary random variables. Reward is sampled value of Y, interventional variables are X1 and X2 -> 4 states -> 4 armed bandit."
     ]
    },
    {
     "cell_type": "code",
     "collapsed": false,
     "input": [
      "# Lets just play with some basic graphical model stuff\n",
      "from libpgm.nodedata import NodeData\n",
      "from libpgm.graphskeleton import GraphSkeleton\n",
      "from libpgm.discretebayesiannetwork import DiscreteBayesianNetwork\n",
      "from libpgm.sampleaggregator import SampleAggregator\n",
      "import json\n"
     ],
     "language": "python",
     "metadata": {},
     "outputs": []
    },
    {
     "cell_type": "code",
     "collapsed": true,
     "input": [
      "from libpgm.nodedata import NodeData\n",
      "from libpgm.graphskeleton import GraphSkeleton\n",
      "from libpgm.discretebayesiannetwork import DiscreteBayesianNetwork\n",
      "from libpgm.sampleaggregator import SampleAggregator\n",
      "import json\n",
      "\n",
      "# load nodedata and graphskeleton\n",
      "nd = NodeData()\n",
      "skel = GraphSkeleton()\n",
      "nd.load(\"bayesnet.json\")    # any input file\n",
      "skel.load(\"bayesnet.json\")\n",
      "\n",
      "# topologically order graphskeleton\n",
      "skel.toporder()\n",
      "\n",
      "# load bayesian network\n",
      "bn = DiscreteBayesianNetwork(skel, nd)\n",
      "\n",
      "agg = SampleAggregator()\n",
      "\n",
      "# average samples\n",
      "t = bn.randomsample(1)\n",
      "print t[0].get('Y')\n",
      "\n",
      "result = agg.aggregate(bn.randomsample(100))\n",
      "# output\n",
      "print json.dumps(result, indent=2)\n",
      "\n",
      " # is this evidence function doing set or observe? (cautionary note in code)\n",
      "\n",
      "result = agg.aggregate(bn.randomsample(100,evidence={\"X1\":'0'})) # evidence in libpgm is equivelent to do (NOT condition on)\n",
      "# output\n",
      "print json.dumps(result, indent=2)\n",
      "print result.get(\"Y\")\n"
     ],
     "language": "python",
     "metadata": {},
     "outputs": [
      {
       "output_type": "stream",
       "stream": "stdout",
       "text": [
        "0\n",
        "{\n",
        "  \"X2\": {\n",
        "    \"0\": 0.9, \n",
        "    \"1\": 0.1\n",
        "  }, \n",
        "  \"Y\": {\n",
        "    \"0\": 0.74, \n",
        "    \"1\": 0.26\n",
        "  }, \n",
        "  \"X1\": {\n",
        "    \"0\": 0.7, \n",
        "    \"1\": 0.3\n",
        "  }\n",
        "}\n",
        "{\n",
        "  \"X2\": {\n",
        "    \"0\": 0.83, \n",
        "    \"1\": 0.17\n",
        "  }, \n",
        "  \"Y\": {\n",
        "    \"0\": 0.59, \n",
        "    \"1\": 0.41\n",
        "  }, \n",
        "  \"X1\": {\n",
        "    \"0\": 1.0\n",
        "  }\n",
        "}\n",
        "{0: 0.59, 1: 0.41}\n"
       ]
      }
     ],
     "prompt_number": 74
    },
    {
     "cell_type": "code",
     "collapsed": false,
     "input": [
      "# Now basic bandit method  - pulling a lever corresponds to do-something\n",
      "# modified from http://www.chrisstucchio.com/blog/2013/bayesian_bandit.html\n",
      "from scipy import stats\n",
      "\n",
      "class NetworkBetaBandit(object):\n",
      "    def __init__(self, bayesnet, interventions, targetVar, prior=(1.0,1.0)):\n",
      "        num_options = len(interventions)\n",
      "        self.trials = zeros(shape=(num_options,), dtype=int)\n",
      "        self.successes = zeros(shape=(num_options,), dtype=int)\n",
      "        self.num_options = num_options\n",
      "        self.prior = prior\n",
      "        self.bn = bayesnet\n",
      "        self.interventions = interventions\n",
      "        self.y = targetVar\n",
      "        \n",
      "    def sample(self,n):\n",
      "        for i in xrange(n):\n",
      "            arm = self.get_recommendation()\n",
      "            result = bn.randomsample(1,evidence=interventions[arm])[0]\n",
      "            reward = result.get(self.y)\n",
      "            bandit.add_result(arm,reward)\n",
      " \n",
      "    def add_result(self, trial_id, success):\n",
      "        self.trials[trial_id] = self.trials[trial_id] + 1\n",
      "        if (success):\n",
      "            self.successes[trial_id] = self.successes[trial_id] + 1\n",
      " \n",
      "    def get_recommendation(self):\n",
      "        sampled_theta = []\n",
      "        for i in range(self.num_options):\n",
      "            #Construct beta distribution for posterior\n",
      "            dist = beta(self.prior[0]+self.successes[i],\n",
      "                        self.prior[1]+self.trials[i]-self.successes[i])\n",
      "            #Draw sample from beta distribution\n",
      "            sampled_theta += [ dist.rvs() ]\n",
      "        # Return the index of the sample with the largest value\n",
      "        return sampled_theta.index( max(sampled_theta) )\n",
      "    \n",
      "    def regret(self, bestprob):\n",
      "        # regret as ratio between reward and expectation of reward had we always selected best\n",
      "        reward = sum(self.successes)/float(sum(self.trials))\n",
      "        optimal = bestprob\n",
      "        return 1 - reward/bestprob\n",
      "    \n",
      "    \n",
      "interventions = [{\"X1\":'0',\"X2\":'0'},{\"X1\":'0',\"X2\":'1'},{\"X1\":'1',\"X2\":'0'},{\"X1\":'1',\"X2\":'1'}]\n",
      "regrets = []\n",
      "for i in range(1000):\n",
      "    bandit = NetworkBetaBandit(bn,interventions,'Y')\n",
      "    bandit.sample(10)\n",
      "    regrets.append(bandit.regret(.4))\n",
      "\n",
      "# a rough estimate how well we do with Bayes Bandits, where we have only done a limited number of experiments\n",
      "print np.mean(regrets),\"+-\", stats.sem(regrets) "
     ],
     "language": "python",
     "metadata": {},
     "outputs": [
      {
       "output_type": "stream",
       "stream": "stdout",
       "text": [
        "0.52175 +- 0.0108262017413\n"
       ]
      }
     ],
     "prompt_number": 92
    },
    {
     "cell_type": "code",
     "collapsed": true,
     "input": [
      "# If we know the causal model is X1 -> Y <- X2, then P(Y|do(X1)) = P(Y|X1)\n",
      "# \n",
      "\n",
      "interventions = [{\"X1\":'0'},{\"X1\":'1'},{\"X2\":'0'},{\"X2\":'1'}] # number of arms the same in this case as 2*2 = 2^2\n",
      "X1arms = {0:0,1:1}\n",
      "X2arms = {0:2,1:3}\n",
      "\n",
      "regrets = []\n",
      "n = 10\n",
      "\n",
      "for i in range(1000):\n",
      "    bandit = NetworkBetaBandit(bn,interventions,'Y')\n",
      "    for j in xrange(n):\n",
      "        arm = bandit.get_recommendation()\n",
      "        result = bn.randomsample(1,evidence=bandit.interventions[arm])[0]\n",
      "        # add results for two arms, one for what X1 was and one for what X2 was\n",
      "        a1 = X1arms.get(result.get(\"X1\"))\n",
      "        a2 = X2arms.get(result.get(\"X2\"))\n",
      "        reward = result.get('Y')\n",
      "        bandit.add_result(a1,reward)\n",
      "        bandit.add_result(a2,reward)\n",
      "        regrets.append(bandit.regret(.4))\n",
      "\n",
      "# a rough estimate how well we do with Causal Bayes Bandit - appears empirically better even in this setting. Now verify theoretically\n",
      "print np.mean(regrets),\"+-\", stats.sem(regrets)\n"
     ],
     "language": "python",
     "metadata": {},
     "outputs": [
      {
       "output_type": "stream",
       "stream": "stdout",
       "text": [
        "0.476210813492 +- 0.00554650529123\n"
       ]
      }
     ],
     "prompt_number": 93
    },
    {
     "cell_type": "code",
     "collapsed": false,
     "input": [
      "# what if we also had to learn (some aspects of) the causal structure\n",
      "\n",
      "\n"
     ],
     "language": "python",
     "metadata": {},
     "outputs": [],
     "prompt_number": 17
    },
    {
     "cell_type": "code",
     "collapsed": false,
     "input": [],
     "language": "python",
     "metadata": {},
     "outputs": []
    }
   ],
   "metadata": {}
  }
 ]
}