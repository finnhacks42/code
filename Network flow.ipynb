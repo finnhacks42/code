{
 "metadata": {
  "name": ""
 },
 "nbformat": 3,
 "nbformat_minor": 0,
 "worksheets": [
  {
   "cells": [
    {
     "cell_type": "code",
     "collapsed": false,
     "input": [
      "sys.path"
     ],
     "language": "python",
     "metadata": {},
     "outputs": [
      {
       "metadata": {},
       "output_type": "pyout",
       "prompt_number": 1,
       "text": [
        "['',\n",
        " '/usr/local/lib/python2.7/dist-packages/networkx-1.8-py2.7.egg',\n",
        " '/usr/local/lib/python2.7/dist-packages/ipython-1.1.0-py2.7.egg',\n",
        " '/usr/local/lib/python2.7/dist-packages/pylearn2-0.1dev-py2.7.egg',\n",
        " '/usr/local/lib/python2.7/dist-packages/prettyplotlib-0.1.4-py2.7.egg',\n",
        " '/usr/local/lib/python2.7/dist-packages/brewer2mpl-1.3.2-py2.7.egg',\n",
        " '/usr/lib/pymodules/python2.7',\n",
        " '/usr/local/lib/python2.7/dist-packages/pymc-3.0-py2.7.egg',\n",
        " '/usr/local/lib/python2.7/dist-packages/SimpleITK-0.8.0-py2.7-linux-x86_64.egg',\n",
        " '/usr/local/lib/python2.7/dist-packages/ebaysdk-2.1.0-py2.7.egg',\n",
        " '/home/finn/phd/code',\n",
        " '/home/finn/programming/pymodules',\n",
        " '/home/finn/programming/pymodules/pyrpca',\n",
        " '/usr/lib/python2.7',\n",
        " '/usr/lib/python2.7/plat-x86_64-linux-gnu',\n",
        " '/usr/lib/python2.7/lib-tk',\n",
        " '/usr/lib/python2.7/lib-old',\n",
        " '/usr/lib/python2.7/lib-dynload',\n",
        " '/home/finn/.local/lib/python2.7/site-packages',\n",
        " '/usr/local/lib/python2.7/dist-packages',\n",
        " '/usr/lib/python2.7/dist-packages',\n",
        " '/usr/lib/python2.7/dist-packages/PILcompat',\n",
        " '/usr/lib/python2.7/dist-packages/gst-0.10',\n",
        " '/usr/lib/python2.7/dist-packages/gtk-2.0',\n",
        " '/usr/lib/python2.7/dist-packages/ubuntu-sso-client',\n",
        " '/usr/lib/python2.7/dist-packages/wx-2.8-gtk2-unicode',\n",
        " '/usr/local/lib/python2.7/dist-packages/ipython-1.1.0-py2.7.egg/IPython/extensions']"
       ]
      }
     ],
     "prompt_number": 1
    },
    {
     "cell_type": "code",
     "collapsed": false,
     "input": [
      "import pygraphviz as pgv\n",
      "G = pgv.AGraph(directed=True)\n",
      "G.add_edge(\"$x_{1}$\",2)\n",
      "G.add_edge(1,3)\n",
      "G.layout()\n",
      "G.draw('graph.png')\n",
      "\n"
     ],
     "language": "python",
     "metadata": {},
     "outputs": [],
     "prompt_number": 4
    },
    {
     "cell_type": "code",
     "collapsed": false,
     "input": [
      "import networkx as nx\n",
      "# lets try some basic network drawing. \n",
      "g = nx.Graph()\n",
      "g.add_edges_from([('$x_{1}$', '$x_{2}$'), ('$x_{1}$', '$x_{3}$'), ('$x_{2}$', '$x_{4}$'), ('$x_{3}$', '$x_{4}$'), ('$x_{4}$', '$x_{5}$')])\n",
      "\n",
      "pos = nx.spring_layout(G)\n",
      "print pos\n",
      "\n",
      "nx.draw_networkx_edge_labels(g,pos, edge_labels=nx.get_edge_attributes(g,'weight'))\n",
      "\n",
      "nx.draw(g)\n",
      "\n",
      "\n"
     ],
     "language": "python",
     "metadata": {},
     "outputs": [
      {
       "ename": "NameError",
       "evalue": "name 'G' is not defined",
       "output_type": "pyerr",
       "traceback": [
        "\u001b[1;31m---------------------------------------------------------------------------\u001b[0m\n\u001b[1;31mNameError\u001b[0m                                 Traceback (most recent call last)",
        "\u001b[1;32m<ipython-input-15-745ee2417a4c>\u001b[0m in \u001b[0;36m<module>\u001b[1;34m()\u001b[0m\n\u001b[0;32m      4\u001b[0m \u001b[0mg\u001b[0m\u001b[1;33m.\u001b[0m\u001b[0madd_edges_from\u001b[0m\u001b[1;33m(\u001b[0m\u001b[1;33m[\u001b[0m\u001b[1;33m(\u001b[0m\u001b[1;34m'$x_{1}$'\u001b[0m\u001b[1;33m,\u001b[0m \u001b[1;34m'$x_{2}$'\u001b[0m\u001b[1;33m)\u001b[0m\u001b[1;33m,\u001b[0m \u001b[1;33m(\u001b[0m\u001b[1;34m'$x_{1}$'\u001b[0m\u001b[1;33m,\u001b[0m \u001b[1;34m'$x_{3}$'\u001b[0m\u001b[1;33m)\u001b[0m\u001b[1;33m,\u001b[0m \u001b[1;33m(\u001b[0m\u001b[1;34m'$x_{2}$'\u001b[0m\u001b[1;33m,\u001b[0m \u001b[1;34m'$x_{4}$'\u001b[0m\u001b[1;33m)\u001b[0m\u001b[1;33m,\u001b[0m \u001b[1;33m(\u001b[0m\u001b[1;34m'$x_{3}$'\u001b[0m\u001b[1;33m,\u001b[0m \u001b[1;34m'$x_{4}$'\u001b[0m\u001b[1;33m)\u001b[0m\u001b[1;33m,\u001b[0m \u001b[1;33m(\u001b[0m\u001b[1;34m'$x_{4}$'\u001b[0m\u001b[1;33m,\u001b[0m \u001b[1;34m'$x_{5}$'\u001b[0m\u001b[1;33m)\u001b[0m\u001b[1;33m]\u001b[0m\u001b[1;33m)\u001b[0m\u001b[1;33m\u001b[0m\u001b[0m\n\u001b[0;32m      5\u001b[0m \u001b[1;33m\u001b[0m\u001b[0m\n\u001b[1;32m----> 6\u001b[1;33m \u001b[0mpos\u001b[0m \u001b[1;33m=\u001b[0m \u001b[0mnx\u001b[0m\u001b[1;33m.\u001b[0m\u001b[0mspring_layout\u001b[0m\u001b[1;33m(\u001b[0m\u001b[0mG\u001b[0m\u001b[1;33m)\u001b[0m\u001b[1;33m\u001b[0m\u001b[0m\n\u001b[0m\u001b[0;32m      7\u001b[0m \u001b[1;32mprint\u001b[0m \u001b[0mpos\u001b[0m\u001b[1;33m\u001b[0m\u001b[0m\n\u001b[0;32m      8\u001b[0m \u001b[1;33m\u001b[0m\u001b[0m\n",
        "\u001b[1;31mNameError\u001b[0m: name 'G' is not defined"
       ]
      }
     ],
     "prompt_number": 15
    },
    {
     "cell_type": "code",
     "collapsed": false,
     "input": [
      "import networkx as nx\n",
      "\n",
      "g = nx.Graph()\n",
      "g.add_edge(0,1,weight=2)\n",
      "g.add_edge(0,3,weight=5)\n",
      "g.add_edge(1,2,weight=1)\n",
      "g.add_edge(1,4,weight=6)\n",
      "g.add_edge(3,4,weight=4)\n",
      "\n",
      "# set the positions as a grid\n",
      "gs = 1\n",
      "gw = 3\n",
      "pos = {}\n",
      "for i in range(5):\n",
      "    y = (i/gw)*gs\n",
      "    x = (i - gw*y)*gs\n",
      "    pos[i] = [x,y]\n",
      "\n",
      "#pos=nx.spring_layout(g)\n",
      "nx.draw(g,pos)\n",
      "nx.draw_networkx_edge_labels(g,pos, edge_labels=nx.get_edge_attributes(g,'weight'))\n",
      "show()\n",
      "\n",
      "# add low weight edges where there are none so as to make the graph complete\n",
      "gamma = 0.1\n",
      "for i in range(5):\n",
      "    for j in range(5):\n",
      "        if i < j:\n",
      "            if not g.has_edge(i,j):\n",
      "                g.add_edge(i,j,weight = gamma)\n",
      "\n",
      "nx.draw(g,pos)\n",
      "nx.draw_networkx_edge_labels(g,pos, edge_labels=nx.get_edge_attributes(g,'weight'))\n",
      "show()   \n",
      "\n",
      "\n"
     ],
     "language": "python",
     "metadata": {},
     "outputs": [
      {
       "metadata": {},
       "output_type": "display_data",
       "png": "[encoded data removed]",
       "text": [
        "<matplotlib.figure.Figure at 0x7f1312ca48d0>"
       ]
      },
      {
       "metadata": {},
       "output_type": "display_data",
       "png": "[encoded data removed]",
       "text": [
        "<matplotlib.figure.Figure at 0x7f1312ac9a50>"
       ]
      }
     ],
     "prompt_number": 12
    },
    {
     "cell_type": "code",
     "collapsed": false,
     "input": [],
     "language": "python",
     "metadata": {},
     "outputs": []
    },
    {
     "cell_type": "code",
     "collapsed": false,
     "input": [
      "# Now lests get the Adjacency matrix for g\n",
      "from sklearn.preprocessing import normalize\n",
      "\n",
      "A = asarray(nx.adjacency_matrix(g))\n",
      "\n",
      "def first_passage(i,j,CM):\n",
      "    count = 0\n",
      "    steps = 0\n",
      "    node = i\n",
      "    while node != j:\n",
      "        row = CM[node,:]\n",
      "        r = random.random()\n",
      "        node = digitize([r],row)[0]\n",
      "        count +=1\n",
      "    return count\n",
      "\n",
      "def mean_first_passage(i,j,A,runs):\n",
      "    CM = cumsum((A/sum(A,axis=1)).T,axis=1)\n",
      "    tp = 0\n",
      "    for r in range(runs):\n",
      "        p = first_passage(i,j,CM)\n",
      "        tp +=p\n",
      "    return tp/float(runs)\n",
      "\n",
      "''' To slow on big matrices'''\n",
      "def first_passage_matrix(A,runs):    \n",
      "    P = zeros(A.shape)\n",
      "    for row in range(P.shape[0]):\n",
      "        for col in range(P.shape[1]):\n",
      "            passage = mean_first_passage(row,col,A,1000)\n",
      "            P[row,col] = passage\n",
      "    return P\n",
      "\n",
      "def complete_graph(g,gamma):\n",
      "    for i in g.nodes_iter():\n",
      "        for j in g.nodes_iter():\n",
      "            if i != j and not g.has_edge(i,j):\n",
      "                g.add_edge(i,j,weight=gamma)\n",
      "   \n",
      "\n",
      "print A\n",
      "print first_passage_matrix(A,10000)\n"
     ],
     "language": "python",
     "metadata": {},
     "outputs": [
      {
       "output_type": "stream",
       "stream": "stdout",
       "text": [
        "[[ 0.   2.   0.1  5.   0.1]\n",
        " [ 2.   0.   1.   0.1  6. ]\n",
        " [ 0.1  1.   0.   0.1  0.1]\n",
        " [ 5.   0.1  0.1  0.   4. ]\n",
        " [ 0.1  6.   0.1  4.   0. ]]\n",
        "working on  0 0\n",
        "working on  0 1\n",
        "working on  0 2\n",
        "working on "
       ]
      },
      {
       "output_type": "stream",
       "stream": "stdout",
       "text": [
        " 0 3\n",
        "working on  0 4\n",
        "working on  1 0\n",
        "working on  1 1\n",
        "working on  1 2\n",
        "working on "
       ]
      },
      {
       "output_type": "stream",
       "stream": "stdout",
       "text": [
        " 1 3\n",
        "working on  1 4\n",
        "working on  2 0\n",
        "working on  2 1\n",
        "working on  2 2\n",
        "working on  2 3\n",
        "working on "
       ]
      },
      {
       "output_type": "stream",
       "stream": "stdout",
       "text": [
        " 2 4\n",
        "working on  3 0\n",
        "working on  3 1\n",
        "working on  3 2\n",
        "working on "
       ]
      },
      {
       "output_type": "stream",
       "stream": "stdout",
       "text": [
        " 3 3\n",
        "working on  3 4\n",
        "working on  4 0\n",
        "working on  4 1\n",
        "working on  4 2\n",
        "working on "
       ]
      },
      {
       "output_type": "stream",
       "stream": "stdout",
       "text": [
        " 4 3\n",
        "working on  4 4\n",
        "[[  0.      4.318  30.372   2.508   4.002]\n",
        " [  5.443   0.     27.612   4.482   2.167]\n",
        " [  5.852   1.944   0.      5.032   3.228]\n",
        " [  3.6     4.7    29.797   0.      3.172]\n",
        " [  5.574   2.874  29.719   3.786   0.   ]]\n"
       ]
      }
     ],
     "prompt_number": 166
    },
    {
     "cell_type": "code",
     "collapsed": false,
     "input": [
      "# now for the anaytical first passage\n",
      "\n"
     ],
     "language": "python",
     "metadata": {},
     "outputs": [
      {
       "metadata": {},
       "output_type": "pyout",
       "prompt_number": 139,
       "text": [
        "(5, 5)"
       ]
      }
     ],
     "prompt_number": 139
    },
    {
     "cell_type": "code",
     "collapsed": false,
     "input": [
      "# import my data\n",
      "G=nx.read_gml('/home/finn/phd/data/tweets/twitter_graph.gml')"
     ],
     "language": "python",
     "metadata": {},
     "outputs": [
      {
       "output_type": "stream",
       "stream": "stderr",
       "text": [
        "/usr/local/lib/python2.7/dist-packages/networkx-1.8-py2.7.egg/networkx/readwrite/gml.py:234: DeprecationWarning: Operator '<<' is deprecated, use '<<=' instead\n",
        "  value << (value_atom | Group( lbrack + ZeroOrMore(keyvalue) + rbrack ))\n"
       ]
      }
     ],
     "prompt_number": 148
    },
    {
     "cell_type": "code",
     "collapsed": false,
     "input": [
      "complete_graph(G,1.0/G.number_of_nodes())\n",
      "Aj = asarray(nx.adjacency_matrix(G))"
     ],
     "language": "python",
     "metadata": {},
     "outputs": [],
     "prompt_number": 163
    },
    {
     "cell_type": "code",
     "collapsed": false,
     "input": [
      "print Aj"
     ],
     "language": "python",
     "metadata": {},
     "outputs": [
      {
       "output_type": "stream",
       "stream": "stdout",
       "text": [
        "[[ 0.          0.00147929  0.00147929 ...,  0.00147929  0.00147929\n",
        "   0.00147929]\n",
        " [ 0.00147929  0.          0.00147929 ...,  0.00147929  0.00147929\n",
        "   0.00147929]\n",
        " [ 0.00147929  0.00147929  0.         ...,  0.00147929  0.00147929\n",
        "   0.00147929]\n",
        " ..., \n",
        " [ 0.00147929  0.00147929  0.00147929 ...,  0.          0.00147929\n",
        "   0.00147929]\n",
        " [ 0.00147929  0.00147929  0.00147929 ...,  0.00147929  0.          0.00147929]\n",
        " [ 0.00147929  0.00147929  0.00147929 ...,  0.00147929  0.00147929  0.        ]]\n"
       ]
      }
     ],
     "prompt_number": 164
    },
    {
     "cell_type": "code",
     "collapsed": false,
     "input": [
      "P = first_passage_matrix(Aj,1000)"
     ],
     "language": "python",
     "metadata": {},
     "outputs": [
      {
       "output_type": "stream",
       "stream": "stdout",
       "text": [
        "working on  0 0\n",
        "working on  0 1\n",
        "working on "
       ]
      },
      {
       "output_type": "stream",
       "stream": "stdout",
       "text": [
        " 0 2\n",
        "working on "
       ]
      },
      {
       "ename": "KeyboardInterrupt",
       "evalue": "",
       "output_type": "pyerr",
       "traceback": [
        "\u001b[1;31m---------------------------------------------------------------------------\u001b[0m\n\u001b[1;31mKeyboardInterrupt\u001b[0m                         Traceback (most recent call last)",
        "\u001b[1;32m<ipython-input-167-ba79f28fb284>\u001b[0m in \u001b[0;36m<module>\u001b[1;34m()\u001b[0m\n\u001b[1;32m----> 1\u001b[1;33m \u001b[0mP\u001b[0m \u001b[1;33m=\u001b[0m \u001b[0mfirst_passage_matrix\u001b[0m\u001b[1;33m(\u001b[0m\u001b[0mAj\u001b[0m\u001b[1;33m,\u001b[0m\u001b[1;36m1000\u001b[0m\u001b[1;33m)\u001b[0m\u001b[1;33m\u001b[0m\u001b[0m\n\u001b[0m",
        "\u001b[1;32m<ipython-input-166-02fb3959e949>\u001b[0m in \u001b[0;36mfirst_passage_matrix\u001b[1;34m(A, runs)\u001b[0m\n\u001b[0;32m     28\u001b[0m         \u001b[1;32mfor\u001b[0m \u001b[0mcol\u001b[0m \u001b[1;32min\u001b[0m \u001b[0mrange\u001b[0m\u001b[1;33m(\u001b[0m\u001b[0mP\u001b[0m\u001b[1;33m.\u001b[0m\u001b[0mshape\u001b[0m\u001b[1;33m[\u001b[0m\u001b[1;36m1\u001b[0m\u001b[1;33m]\u001b[0m\u001b[1;33m)\u001b[0m\u001b[1;33m:\u001b[0m\u001b[1;33m\u001b[0m\u001b[0m\n\u001b[0;32m     29\u001b[0m             \u001b[1;32mprint\u001b[0m \u001b[1;34m\"working on \"\u001b[0m\u001b[1;33m,\u001b[0m\u001b[0mrow\u001b[0m\u001b[1;33m,\u001b[0m\u001b[0mcol\u001b[0m\u001b[1;33m\u001b[0m\u001b[0m\n\u001b[1;32m---> 30\u001b[1;33m             \u001b[0mpassage\u001b[0m \u001b[1;33m=\u001b[0m \u001b[0mmean_first_passage\u001b[0m\u001b[1;33m(\u001b[0m\u001b[0mrow\u001b[0m\u001b[1;33m,\u001b[0m\u001b[0mcol\u001b[0m\u001b[1;33m,\u001b[0m\u001b[0mA\u001b[0m\u001b[1;33m,\u001b[0m\u001b[1;36m1000\u001b[0m\u001b[1;33m)\u001b[0m\u001b[1;33m\u001b[0m\u001b[0m\n\u001b[0m\u001b[0;32m     31\u001b[0m             \u001b[0mP\u001b[0m\u001b[1;33m[\u001b[0m\u001b[0mrow\u001b[0m\u001b[1;33m,\u001b[0m\u001b[0mcol\u001b[0m\u001b[1;33m]\u001b[0m \u001b[1;33m=\u001b[0m \u001b[0mpassage\u001b[0m\u001b[1;33m\u001b[0m\u001b[0m\n\u001b[0;32m     32\u001b[0m     \u001b[1;32mreturn\u001b[0m \u001b[0mP\u001b[0m\u001b[1;33m\u001b[0m\u001b[0m\n",
        "\u001b[1;32m<ipython-input-166-02fb3959e949>\u001b[0m in \u001b[0;36mmean_first_passage\u001b[1;34m(i, j, A, runs)\u001b[0m\n\u001b[0;32m     19\u001b[0m     \u001b[0mtp\u001b[0m \u001b[1;33m=\u001b[0m \u001b[1;36m0\u001b[0m\u001b[1;33m\u001b[0m\u001b[0m\n\u001b[0;32m     20\u001b[0m     \u001b[1;32mfor\u001b[0m \u001b[0mr\u001b[0m \u001b[1;32min\u001b[0m \u001b[0mrange\u001b[0m\u001b[1;33m(\u001b[0m\u001b[0mruns\u001b[0m\u001b[1;33m)\u001b[0m\u001b[1;33m:\u001b[0m\u001b[1;33m\u001b[0m\u001b[0m\n\u001b[1;32m---> 21\u001b[1;33m         \u001b[0mp\u001b[0m \u001b[1;33m=\u001b[0m \u001b[0mfirst_passage\u001b[0m\u001b[1;33m(\u001b[0m\u001b[0mi\u001b[0m\u001b[1;33m,\u001b[0m\u001b[0mj\u001b[0m\u001b[1;33m,\u001b[0m\u001b[0mCM\u001b[0m\u001b[1;33m)\u001b[0m\u001b[1;33m\u001b[0m\u001b[0m\n\u001b[0m\u001b[0;32m     22\u001b[0m         \u001b[0mtp\u001b[0m \u001b[1;33m+=\u001b[0m\u001b[0mp\u001b[0m\u001b[1;33m\u001b[0m\u001b[0m\n\u001b[0;32m     23\u001b[0m     \u001b[1;32mreturn\u001b[0m \u001b[0mtp\u001b[0m\u001b[1;33m/\u001b[0m\u001b[0mfloat\u001b[0m\u001b[1;33m(\u001b[0m\u001b[0mruns\u001b[0m\u001b[1;33m)\u001b[0m\u001b[1;33m\u001b[0m\u001b[0m\n",
        "\u001b[1;32m<ipython-input-166-02fb3959e949>\u001b[0m in \u001b[0;36mfirst_passage\u001b[1;34m(i, j, CM)\u001b[0m\n\u001b[0;32m     10\u001b[0m     \u001b[1;32mwhile\u001b[0m \u001b[0mnode\u001b[0m \u001b[1;33m!=\u001b[0m \u001b[0mj\u001b[0m\u001b[1;33m:\u001b[0m\u001b[1;33m\u001b[0m\u001b[0m\n\u001b[0;32m     11\u001b[0m         \u001b[0mrow\u001b[0m \u001b[1;33m=\u001b[0m \u001b[0mCM\u001b[0m\u001b[1;33m[\u001b[0m\u001b[0mnode\u001b[0m\u001b[1;33m,\u001b[0m\u001b[1;33m:\u001b[0m\u001b[1;33m]\u001b[0m\u001b[1;33m\u001b[0m\u001b[0m\n\u001b[1;32m---> 12\u001b[1;33m         \u001b[0mr\u001b[0m \u001b[1;33m=\u001b[0m \u001b[0mrandom\u001b[0m\u001b[1;33m.\u001b[0m\u001b[0mrandom\u001b[0m\u001b[1;33m(\u001b[0m\u001b[1;33m)\u001b[0m\u001b[1;33m\u001b[0m\u001b[0m\n\u001b[0m\u001b[0;32m     13\u001b[0m         \u001b[0mnode\u001b[0m \u001b[1;33m=\u001b[0m \u001b[0mdigitize\u001b[0m\u001b[1;33m(\u001b[0m\u001b[1;33m[\u001b[0m\u001b[0mr\u001b[0m\u001b[1;33m]\u001b[0m\u001b[1;33m,\u001b[0m\u001b[0mrow\u001b[0m\u001b[1;33m)\u001b[0m\u001b[1;33m[\u001b[0m\u001b[1;36m0\u001b[0m\u001b[1;33m]\u001b[0m\u001b[1;33m\u001b[0m\u001b[0m\n\u001b[0;32m     14\u001b[0m         \u001b[0mcount\u001b[0m \u001b[1;33m+=\u001b[0m\u001b[1;36m1\u001b[0m\u001b[1;33m\u001b[0m\u001b[0m\n",
        "\u001b[1;31mKeyboardInterrupt\u001b[0m: "
       ]
      },
      {
       "output_type": "stream",
       "stream": "stdout",
       "text": [
        " 0 3\n"
       ]
      }
     ],
     "prompt_number": 167
    },
    {
     "cell_type": "code",
     "collapsed": false,
     "input": [],
     "language": "python",
     "metadata": {},
     "outputs": []
    }
   ],
   "metadata": {}
  }
 ]
}