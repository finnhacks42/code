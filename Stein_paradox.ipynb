{
 "metadata": {
  "name": ""
 },
 "nbformat": 3,
 "nbformat_minor": 0,
 "worksheets": [
  {
   "cells": [
    {
     "cell_type": "code",
     "collapsed": false,
     "input": [
      "def james_stein(k,X):\n",
      "    c = float(k-2)/sum(power(X,2))\n",
      "    if c < 0:\n",
      "        c = 0\n",
      "    #print \"c\",c\n",
      "    return (1-c)*X\n",
      "\n",
      "def dev(lst):\n",
      "    return sum(lst)/float(len(lst))\n",
      "\n",
      "n = 3\n",
      "std_list = [1,10,100,1000,10000]\n",
      "me1 = []\n",
      "sde1 = []\n",
      "me2 = []\n",
      "sde2 = []\n",
      "for sd in std_list:\n",
      "    e1s = []\n",
      "    e2s = []\n",
      "    for s in range(100):\n",
      "        theta = normal(0,sd,size=n)\n",
      "        X = normal(theta,1,size=n)\n",
      "        est2 = james_stein(n,X)\n",
      "        e1 = sum(power(theta-X,2))\n",
      "        e2 = sum(power(theta-est2,2))\n",
      "        e1s.append(e1)\n",
      "        e2s.append(e2)\n",
      "    me1.append(mean(e1s))\n",
      "    me2.append(mean(e2s))\n",
      "    sde1.append(dev(e1s))\n",
      "    sde2.append(dev(e2s))\n",
      "\n"
     ],
     "language": "python",
     "metadata": {},
     "outputs": [],
     "prompt_number": 33
    },
    {
     "cell_type": "code",
     "collapsed": false,
     "input": [
      "print me1\n",
      "print me2\n",
      "ratio = divide(me2,me1)\n",
      "plot(log(std_list),ratio)\n",
      "show()\n"
     ],
     "language": "python",
     "metadata": {},
     "outputs": [
      {
       "output_type": "stream",
       "stream": "stdout",
       "text": [
        "[3.0401999270129672, 3.295266611614291, 2.7052232120269717, 3.4309628948308961, 3.0160679009298756]\n",
        "[2.7405823921061723, 3.2689858342895208, 2.7065968698018992, 3.4312121316644859, 3.0161027947668178]\n"
       ]
      },
      {
       "metadata": {},
       "output_type": "display_data",
       "png": "[encoded data removed]",
       "text": [
        "<matplotlib.figure.Figure at 0x3833810>"
       ]
      }
     ],
     "prompt_number": 34
    },
    {
     "cell_type": "code",
     "collapsed": false,
     "input": [
      "# choose a distribution from which the rates are drawn\n",
      "\n"
     ],
     "language": "python",
     "metadata": {},
     "outputs": []
    }
   ],
   "metadata": {}
  }
 ]
}