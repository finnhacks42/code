{
 "metadata": {
  "name": ""
 },
 "nbformat": 3,
 "nbformat_minor": 0,
 "worksheets": [
  {
   "cells": [
    {
     "cell_type": "code",
     "collapsed": false,
     "input": [
      "cov = identity(2)\n",
      "print cov"
     ],
     "language": "python",
     "metadata": {},
     "outputs": [
      {
       "output_type": "stream",
       "stream": "stdout",
       "text": [
        "[[ 1.  0.]\n",
        " [ 0.  1.]]\n"
       ]
      }
     ],
     "prompt_number": 11
    },
    {
     "cell_type": "code",
     "collapsed": false,
     "input": [
      "n = 100\n",
      "d1 = random.multivariate_normal([0,0],cov,size=n)\n",
      "d2 = random.multivariate_normal([2,2],cov,size=n)\n",
      "\n",
      "                                "
     ],
     "language": "python",
     "metadata": {},
     "outputs": [],
     "prompt_number": 27
    },
    {
     "cell_type": "code",
     "collapsed": false,
     "input": [
      "plot(d1[:,0],d1[:,1],'x')\n",
      "plot(d2[:,0],d2[:,1],'o')\n",
      "show()"
     ],
     "language": "python",
     "metadata": {},
     "outputs": [
      {
       "metadata": {},
       "output_type": "display_data",
       "png": "[encoded data removed]",
       "text": [
        "<matplotlib.figure.Figure at 0x3e3bf50>"
       ]
      }
     ],
     "prompt_number": 28
    },
    {
     "cell_type": "code",
     "collapsed": false,
     "input": [
      "# combine these two multi-d arrays \n",
      "d = vstack([d1,d2])\n",
      "plot(d[:,0],d[:,1],'o')\n",
      "show()"
     ],
     "language": "python",
     "metadata": {},
     "outputs": [
      {
       "metadata": {},
       "output_type": "display_data",
       "png": "[encoded data removed]",
       "text": [
        "<matplotlib.figure.Figure at 0x403c390>"
       ]
      }
     ],
     "prompt_number": 29
    },
    {
     "cell_type": "code",
     "collapsed": false,
     "input": [
      "d.shape"
     ],
     "language": "python",
     "metadata": {},
     "outputs": [
      {
       "metadata": {},
       "output_type": "pyout",
       "prompt_number": 31,
       "text": [
        "(200, 2)"
       ]
      }
     ],
     "prompt_number": 31
    },
    {
     "cell_type": "code",
     "collapsed": false,
     "input": [
      "# transform to some high dimensional space. \n",
      "# That is to say, create a new matrix dh, where each column in dh is a linear combination of the columns of d. \n",
      "h = 4\n",
      "A = random.rand(2,h)\n",
      "print d.shape\n",
      "print A.shape\n",
      "dh = d.dot(A)\n",
      "print dh.shape\n",
      "dh_svd = linalg.svd(dh)\n",
      "\n",
      "U = dh_svd[0]\n",
      "S = dh_svd[1]\n",
      "V = dh_svd[2]\n",
      "print \"U\",U.shape\n",
      "print \"S\",S.shape\n",
      "print \"V\",V.shape"
     ],
     "language": "python",
     "metadata": {},
     "outputs": [
      {
       "output_type": "stream",
       "stream": "stdout",
       "text": [
        "(200, 2)\n",
        "(2, 4)\n",
        "(200, 4)\n",
        "U (200, 200)\n",
        "S (4,)\n",
        "V (4, 4)\n"
       ]
      }
     ],
     "prompt_number": 52
    },
    {
     "cell_type": "code",
     "collapsed": false,
     "input": [
      "print V"
     ],
     "language": "python",
     "metadata": {},
     "outputs": [
      {
       "output_type": "stream",
       "stream": "stdout",
       "text": [
        "[[-0.6879007  -0.31294208 -0.11351457 -0.64496071]\n",
        " [ 0.50534346 -0.30962959  0.63154686 -0.49990606]\n",
        " [ 0.50484615  0.11058829 -0.71835888 -0.46568349]\n",
        " [-0.12865056  0.89104826  0.26874436 -0.34243029]]\n"
       ]
      }
     ],
     "prompt_number": 53
    },
    {
     "cell_type": "code",
     "collapsed": false,
     "input": [
      "print S"
     ],
     "language": "python",
     "metadata": {},
     "outputs": [
      {
       "output_type": "stream",
       "stream": "stdout",
       "text": [
        "[  5.76749509e+01   3.86967742e+00   1.74784863e-14   1.85624813e-15]\n"
       ]
      }
     ],
     "prompt_number": 54
    },
    {
     "cell_type": "code",
     "collapsed": false,
     "input": [
      "# lets go back a few hundred steps and think about PCA and SVD\n",
      "\n",
      "# lets suppose I have a single feature and n data points. So to start with X is n * 1\n",
      "# Now I project that into a 2 dimensional space.\n"
     ],
     "language": "python",
     "metadata": {},
     "outputs": []
    },
    {
     "cell_type": "raw",
     "metadata": {},
     "source": [
      "Lets look at Multidimensional scaling."
     ]
    },
    {
     "cell_type": "code",
     "collapsed": false,
     "input": [
      "# create a graph from these points. Each node links to each other with probability p\n",
      "random.seed(2)\n",
      "import networkx as nx\n",
      "def draw_graph(A,graph_pos):\n",
      "    \n",
      "    # create networkx graph\n",
      "    G=nx.from_numpy_matrix(A) \n",
      "    \n",
      "    # draw graph\n",
      "    nx.draw_networkx_nodes(G,graph_pos,node_size=30, alpha=1.0, node_color='blue')\n",
      "    \n",
      "    # draw edges\n",
      "    nx.draw_networkx_edges(G,graph_pos,width=1, alpha=1,edge_color='blue')\n",
      "   \n",
      "    # show graph\n",
      "    show()\n",
      "    \n",
      "nodes = 10\n",
      "x = random.uniform(size = nodes)\n",
      "y = random.uniform(size = nodes)\n",
      "\n",
      "p = 0.5\n",
      "A = zeros((nodes,nodes))\n",
      "layout = {}\n",
      "for i in range(nodes):\n",
      "     layout[i] = [x[i],y[i]]\n",
      "     for j in range(nodes):\n",
      "            if i < j:\n",
      "                r = random.uniform()\n",
      "                if r < p:\n",
      "                    # create a link between nodes i and j\n",
      "                    dx = x[i] - x[j]\n",
      "                    dy = y[i] - y[j]\n",
      "                    dist = sqrt(pow(dx,2)+pow(dy,2))\n",
      "                    A[i,j] = dist\n",
      "                    A[j,i] = dist\n",
      "\n",
      "draw_graph(A,layout)"
     ],
     "language": "python",
     "metadata": {},
     "outputs": [
      {
       "metadata": {},
       "output_type": "display_data",
       "png": "[encoded data removed]",
       "text": [
        "<matplotlib.figure.Figure at 0x7feed2ce8550>"
       ]
      }
     ],
     "prompt_number": 27
    },
    {
     "cell_type": "code",
     "collapsed": false,
     "input": [
      "# now do MDS on the matrix to try to recover the positions of the nodes.\n",
      "\n"
     ],
     "language": "python",
     "metadata": {},
     "outputs": []
    },
    {
     "cell_type": "code",
     "collapsed": false,
     "input": [
      "print(__doc__)\n",
      "import numpy as np\n",
      "\n",
      "from matplotlib import pyplot as plt\n",
      "from matplotlib.collections import LineCollection\n",
      "\n",
      "from sklearn import manifold\n",
      "from sklearn.metrics import euclidean_distances\n",
      "from sklearn.decomposition import PCA\n",
      "\n",
      "n_samples = 3\n",
      "seed = np.random.RandomState(seed=3)\n",
      "X_true = seed.randint(0, 20, 2 * n_samples).astype(np.float)\n",
      "X_true = X_true.reshape((n_samples, 2)) #first column is x-coord, 2nd col is y coord.\n",
      "# Center the data\n",
      "X_true -= X_true.mean()\n",
      "\n",
      "print X_true\n",
      "similarities = euclidean_distances(X_true)\n",
      "\n",
      "# Add noise to the similarities\n",
      "noise = np.random.rand(n_samples, n_samples)\n",
      "noise = noise + noise.T\n",
      "noise[np.arange(noise.shape[0]), np.arange(noise.shape[0])] = 0\n",
      "similarities += noise\n",
      "\n",
      "print similarities\n",
      "\n",
      "\n",
      "mds = manifold.MDS(n_components=2, max_iter=3000, eps=1e-9, random_state=seed,\n",
      "                   dissimilarity=\"precomputed\", n_jobs=1)\n",
      "pos = mds.fit(similarities).embedding_\n",
      "\n",
      "nmds = manifold.MDS(n_components=2, metric=False, max_iter=3000, eps=1e-12,\n",
      "                    dissimilarity=\"precomputed\", random_state=seed, n_jobs=1,\n",
      "                    n_init=1)\n",
      "npos = nmds.fit_transform(similarities, init=pos)\n",
      "\n",
      "# Rescale the data\n",
      "pos *= np.sqrt((X_true ** 2).sum()) / np.sqrt((pos ** 2).sum())\n",
      "npos *= np.sqrt((X_true ** 2).sum()) / np.sqrt((npos ** 2).sum())\n",
      "\n",
      "# Rotate the data\n",
      "clf = PCA(n_components=2)\n",
      "X_true = clf.fit_transform(X_true)\n",
      "\n",
      "pos = clf.fit_transform(pos)\n",
      "\n",
      "npos = clf.fit_transform(npos)\n",
      "\n",
      "fig = plt.figure(1)\n",
      "ax = plt.axes([0., 0., 1., 1.])\n",
      "\n",
      "plt.scatter(X_true[:, 0], X_true[:, 1], c='r', s=20)\n",
      "plt.scatter(pos[:, 0], pos[:, 1], s=20, c='g')\n",
      "plt.scatter(npos[:, 0], npos[:, 1], s=20, c='b')\n",
      "plt.legend(('True position', 'MDS', 'NMDS'), loc='best')\n",
      "\n",
      "similarities = similarities.max() / similarities * 100\n",
      "similarities[np.isinf(similarities)] = 0\n",
      "\n",
      "# Plot the edges\n",
      "start_idx, end_idx = np.where(pos)\n",
      "#a sequence of (*line0*, *line1*, *line2*), where::\n",
      "#            linen = (x0, y0), (x1, y1), ... (xm, ym)\n",
      "segments = [[X_true[i, :], X_true[j, :]]\n",
      "            for i in range(len(pos)) for j in range(len(pos))]\n",
      "values = np.abs(similarities)\n",
      "lc = LineCollection(segments,\n",
      "                    zorder=0, cmap=plt.cm.hot_r,\n",
      "                    norm=plt.Normalize(0, values.max()))\n",
      "lc.set_array(similarities.flatten())\n",
      "lc.set_linewidths(0.5 * np.ones(len(segments)))\n",
      "ax.add_collection(lc)\n",
      "\n",
      "plt.show()\n"
     ],
     "language": "python",
     "metadata": {},
     "outputs": []
    },
    {
     "cell_type": "code",
     "collapsed": false,
     "input": [],
     "language": "python",
     "metadata": {},
     "outputs": []
    }
   ],
   "metadata": {}
  }
 ]
}