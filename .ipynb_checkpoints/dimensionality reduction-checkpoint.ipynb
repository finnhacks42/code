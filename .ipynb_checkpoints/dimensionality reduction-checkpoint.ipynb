{
 "metadata": {
  "name": ""
 },
 "nbformat": 3,
 "nbformat_minor": 0,
 "worksheets": [
  {
   "cells": [
    {
     "cell_type": "code",
     "collapsed": false,
     "input": [
      "rows = 5\n",
      "Z = random.normal(0,size=(rows,3))\n",
      "W = asarray([[1,1,0],[0,.001,0],[0,0,10]])\n",
      "X = dot(Z,W) # x1 = z1, x2 = z1+0.001*z2, x3 = 10*z3\n",
      "\n",
      "# fit PCA, FA with one latent factor\n",
      "from sklearn.decomposition import *\n",
      "fa_model = FactorAnalysis(n_components = 1)\n",
      "fa = fa_model.fit_transform(X)\n",
      "print fa\n",
      "\n",
      "\n",
      "\n",
      "from numpy import corrcoef, sum, log, arange\n",
      "from numpy.random import rand\n",
      "from pylab import pcolor, show, colorbar, xticks, yticks\n",
      "# generating some uncorrelated data\n",
      "data = rand(10,100) # each row of represents a variable\n",
      "\n",
      "# creating correlation between the variables\n",
      "# variable 2 is correlated with all the other variables\n",
      "data[2,:] = sum(data,0)\n",
      "# variable 4 is correlated with variable 8\n",
      "data[4,:] = log(data[8,:])*0.5\n",
      "\n",
      "# plotting the correlation matrix\n",
      "R = corrcoef(data)\n",
      "pcolor(R)\n",
      "colorbar()\n",
      "yticks(arange(0.5,10.5),range(0,10))\n",
      "xticks(arange(0.5,10.5),range(0,10))\n",
      "show()"
     ],
     "language": "python",
     "metadata": {},
     "outputs": [
      {
       "output_type": "stream",
       "stream": "stdout",
       "text": [
        "[[-1.0534473 ]\n",
        " [ 0.75197464]\n",
        " [-0.14737582]\n",
        " [ 1.47862753]\n",
        " [-1.02977906]]\n"
       ]
      }
     ],
     "prompt_number": 19
    },
    {
     "cell_type": "raw",
     "metadata": {},
     "source": [
      "Lets try coding PCA from scratch ... "
     ]
    },
    {
     "cell_type": "code",
     "collapsed": false,
     "input": [
      "# A very simple example: true dimension will be 2-d, but with some noise\n",
      "def t(X):\n",
      "    return transpose(X)\n",
      "\n",
      "n = 5\n",
      "x1 = random.normal(0,3,size=n)\n",
      "x2 = random.normal(0,1,size=n)\n",
      "x3 = x1+x2+random.normal(0,size=n)\n",
      "\n",
      "# create matrix X where each row is a feature\n",
      "X = zeros((3,n))\n",
      "X[0] = x1\n",
      "X[1] = x2\n",
      "X[2] = x3\n",
      "\n",
      "# subtract the means\n",
      "X = X - mean(X,axis=1)[:,newaxis]\n",
      "\n",
      "# now calulate the correlation coefficients\n",
      "Cx = (1.0/n)*dot(X,t(X))\n",
      "\n",
      "# find the eigenvectors of Cx\n",
      "w, v = linalg.eig(Cx) # w is a list of the eigenvalues, v[:,i] is the eigenvector corresponding to the eigenvalue w[i]\n",
      "\n",
      "# The transform we want, P is the matrix where each row is an eigenvector of Cx\n",
      "P = t(v)\n",
      "\n",
      "\n",
      "\n",
      "\n",
      "\n"
     ],
     "language": "python",
     "metadata": {},
     "outputs": [
      {
       "output_type": "stream",
       "stream": "stdout",
       "text": [
        "[[-3.36483339 -2.44476191  1.89378221 -0.61032723  4.52614032]\n",
        " [ 1.10168275 -0.56570764 -0.6080139  -0.89890461  0.97094339]\n",
        " [-1.25779939 -2.56713246  0.92153493 -2.54567127  5.44906818]]\n",
        "[[ 3.13292261  3.57826437 -1.91869695  2.32987538 -7.1223654 ]\n",
        " [ 2.07280754 -0.17391943 -1.05145576 -1.47317065  0.6257383 ]\n",
        " [-0.07831211  0.22985018  0.13550409 -0.24983989 -0.03720227]]\n"
       ]
      }
     ],
     "prompt_number": 45
    },
    {
     "cell_type": "code",
     "collapsed": false,
     "input": [
      "print y"
     ],
     "language": "python",
     "metadata": {},
     "outputs": [
      {
       "output_type": "stream",
       "stream": "stdout",
       "text": [
        "[[  7.20450614e+00   1.59584513e+00  -4.02290181e-06]\n",
        " [ -1.22253518e+01   1.19523493e+00  -6.95402722e-05]\n",
        " [  1.76653180e+00  -3.33223820e+00  -7.90230617e-05]\n",
        " [ -2.56270981e+00  -6.98526568e-01   1.87258016e-04]\n",
        " [  5.81702366e+00   1.23968470e+00  -3.46717799e-05]]\n"
       ]
      }
     ],
     "prompt_number": 16
    },
    {
     "cell_type": "code",
     "collapsed": false,
     "input": [],
     "language": "python",
     "metadata": {},
     "outputs": []
    }
   ],
   "metadata": {}
  }
 ]
}