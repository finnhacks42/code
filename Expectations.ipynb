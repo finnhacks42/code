{
 "metadata": {
  "name": ""
 },
 "nbformat": 3,
 "nbformat_minor": 0,
 "worksheets": [
  {
   "cells": [
    {
     "cell_type": "code",
     "collapsed": false,
     "input": [
      "import math\n",
      "# approximate the distribution by ensuring total probability is >= 1-epsilon\n",
      "def approx_pois(l,epsilon):\n",
      "    c = 0\n",
      "    i = 0\n",
      "    result = []\n",
      "    while c < (1 - epsilon) or i < 2:\n",
      "        pi = exp(-l)*pow(l,i)/math.factorial(i)\n",
      "        result.append(pi)\n",
      "        c += pi\n",
      "        i +=1\n",
      "    result = [i/c for i in result]\n",
      "    return result\n",
      "\n",
      "p1 = approx_pois(1,.001)\n"
     ],
     "language": "python",
     "metadata": {},
     "outputs": [
      {
       "output_type": "stream",
       "stream": "stdout",
       "text": [
        "1.0\n"
       ]
      }
     ],
     "prompt_number": 7
    },
    {
     "cell_type": "code",
     "collapsed": false,
     "input": [
      "l1 = 0.0005\n",
      "l2 = 2* l1\n",
      "D = 365\n",
      "\n",
      "def expectation(l1,l2,D):\n",
      "    probs1 = approx_pois(l1*D,0.001)\n",
      "    probs2 = approx_pois(l2*D,0.001)\n",
      "    t = 0\n",
      "    t2 = 0\n",
      "    for x1,p1 in enumerate(probs1):\n",
      "        for x2,p2 in enumerate(probs2):\n",
      "            p = p1*p2\n",
      "            val = x1/(x1*x1+x2*x2+.01)\n",
      "            t+=p*val\n",
      "            val2 = x2/(x1*x1+x2*x2+.01)\n",
      "            t2 += p*val2       \n",
      "    w = l1*t + l2*t2\n",
      "    return w\n",
      "\n",
      "l_list = linspace(.0001,.01,1000)\n",
      "w_list = []\n",
      "for l1 in l_list:\n",
      "    w = expectation(l1,2*l1,D)\n",
      "    w_list.append(w*D)\n",
      "\n",
      "plot(l_list,w_list)\n",
      "show()      \n",
      "\n",
      "        #t += p*p2*x/float(pow(x,2)+pow(x2,2))\n",
      "#print t\n",
      "        "
     ],
     "language": "python",
     "metadata": {},
     "outputs": [
      {
       "metadata": {},
       "output_type": "display_data",
       "png": "[encoded data removed]",
       "text": [
        "<matplotlib.figure.Figure at 0x324c310>"
       ]
      }
     ],
     "prompt_number": 31
    },
    {
     "cell_type": "code",
     "collapsed": false,
     "input": [],
     "language": "python",
     "metadata": {},
     "outputs": [],
     "prompt_number": 29
    },
    {
     "cell_type": "code",
     "collapsed": false,
     "input": [],
     "language": "python",
     "metadata": {},
     "outputs": []
    }
   ],
   "metadata": {}
  }
 ]
}